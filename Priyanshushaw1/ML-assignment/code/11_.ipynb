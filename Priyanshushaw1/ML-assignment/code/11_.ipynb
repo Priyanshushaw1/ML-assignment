{
  "nbformat": 4,
  "nbformat_minor": 0,
  "metadata": {
    "colab": {
      "provenance": [],
      "authorship_tag": "ABX9TyOCs0XzjzsoQUI//dXF6/Jm",
      "include_colab_link": true
    },
    "kernelspec": {
      "name": "python3",
      "display_name": "Python 3"
    },
    "language_info": {
      "name": "python"
    }
  },
  "cells": [
    {
      "cell_type": "markdown",
      "metadata": {
        "id": "view-in-github",
        "colab_type": "text"
      },
      "source": [
        "<a href=\"https://colab.research.google.com/github/Priyanshushaw1/ML-assignment/blob/main/Priyanshushaw1/ML-assignment/code/11_.ipynb\" target=\"_parent\"><img src=\"https://colab.research.google.com/assets/colab-badge.svg\" alt=\"Open In Colab\"/></a>"
      ]
    },
    {
      "cell_type": "code",
      "execution_count": 1,
      "metadata": {
        "colab": {
          "base_uri": "https://localhost:8080/"
        },
        "id": "Z3efQcnpMEi7",
        "outputId": "3450fdd5-b2f4-47ca-b634-98f432ee948c"
      },
      "outputs": [
        {
          "output_type": "stream",
          "name": "stdout",
          "text": [
            "\n",
            "Predicted Outputs after Training:\n",
            "[[0.053]\n",
            " [0.952]\n",
            " [0.952]\n",
            " [0.052]]\n"
          ]
        }
      ],
      "source": [
        "import numpy as np\n",
        "\n",
        "\n",
        "X = np.array([[0,0], [0,1], [1,0], [1,1]])\n",
        "y = np.array([[0], [1], [1], [0]])\n",
        "\n",
        "\n",
        "np.random.seed(42)\n",
        "input_dim = 2\n",
        "hidden_dim = 2\n",
        "output_dim = 1\n",
        "learning_rate = 0.1\n",
        "epochs = 10000\n",
        "\n",
        "W1 = np.random.uniform(size=(input_dim, hidden_dim))\n",
        "b1 = np.random.uniform(size=(1, hidden_dim))\n",
        "W2 = np.random.uniform(size=(hidden_dim, output_dim))\n",
        "b2 = np.random.uniform(size=(1, output_dim))\n",
        "\n",
        "def sigmoid(x):\n",
        "    return 1 / (1 + np.exp(-x))\n",
        "\n",
        "def sigmoid_derivative(x):\n",
        "    return x * (1 - x)\n",
        "\n",
        "\n",
        "for epoch in range(epochs):\n",
        "    hidden_input = np.dot(X, W1) + b1\n",
        "    hidden_output = sigmoid(hidden_input)\n",
        "    final_input = np.dot(hidden_output, W2) + b2\n",
        "    final_output = sigmoid(final_input)\n",
        "\n",
        "    error = y - final_output\n",
        "    d_output = error * sigmoid_derivative(final_output)\n",
        "\n",
        "    error_hidden = d_output.dot(W2.T)\n",
        "    d_hidden = error_hidden * sigmoid_derivative(hidden_output)\n",
        "\n",
        "    W2 += hidden_output.T.dot(d_output) * learning_rate\n",
        "    b2 += np.sum(d_output, axis=0, keepdims=True) * learning_rate\n",
        "    W1 += X.T.dot(d_hidden) * learning_rate\n",
        "    b1 += np.sum(d_hidden, axis=0, keepdims=True) * learning_rate\n",
        "\n",
        "\n",
        "print(\"\\nPredicted Outputs after Training:\")\n",
        "print(final_output.round(3))"
      ]
    }
  ]
}